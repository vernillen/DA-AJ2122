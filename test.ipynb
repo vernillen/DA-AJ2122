{
 "cells": [
  {
   "cell_type": "code",
   "execution_count": 1,
   "metadata": {},
   "outputs": [],
   "source": [
    "## Library\n",
    "import requests\n",
    "from bs4 import BeautifulSoup as bs\n",
    "import pandas as pd"
   ]
  },
  {
   "cell_type": "code",
   "execution_count": 9,
   "metadata": {},
   "outputs": [
    {
     "name": "stdout",
     "output_type": "stream",
     "text": [
      "['13:49', '13:49', '13:49', '13:49', '13:49', '13:49', '13:49', '13:49', '13:49', '13:49', '13:49', '13:49', '13:49', '13:49', '13:49', '13:49', '13:49', '13:49', '13:49', '13:49', '13:49', '13:49', '13:49', '13:49', '13:49', '13:49', '13:49', '13:49', '13:49', '13:49', '13:49', '13:49', '13:49', '13:49', '13:49', '13:49', '13:49', '13:49', '13:49', '13:49', '13:49', '13:49', '13:49', '13:49', '13:49', '13:49', '13:49', '13:49', '13:49', '13:49']\n"
     ]
    }
   ],
   "source": [
    " #Request HTML & beautify it\n",
    "page = requests.get(\"https://www.blockchain.com/btc/unconfirmed-transactions\")\n",
    "soup = bs(page.content)\n",
    "    \n",
    "#Find right data\n",
    "results_numbers = soup.find_all(\"span\", {'class' : 'sc-1ryi78w-0 cILyoi sc-16b9dsl-1 ZwupP u3ufsr-0 eQTRKC'})\n",
    "results_hash = soup.find_all(\"a\", {'class' : 'sc-1r996ns-0 fLwyDF sc-1tbyx6t-1 kCGMTY iklhnl-0 eEewhk d53qjk-0 ctEFcK'})\n",
    "\n",
    "test = []\n",
    "for valye in results_numbers[1::3]:\n",
    "    test.append(valye.get_text())\n",
    "\n",
    "print(test)"
   ]
  },
  {
   "cell_type": "code",
   "execution_count": null,
   "metadata": {},
   "outputs": [],
   "source": []
  }
 ],
 "metadata": {
  "interpreter": {
   "hash": "8e8acd79eafc6c096ed33ca1deb984c8d1dc5fec2c1a1d777caab7e433b5e595"
  },
  "kernelspec": {
   "display_name": "Python 3.7.4 ('base')",
   "language": "python",
   "name": "python3"
  },
  "language_info": {
   "codemirror_mode": {
    "name": "ipython",
    "version": 3
   },
   "file_extension": ".py",
   "mimetype": "text/x-python",
   "name": "python",
   "nbconvert_exporter": "python",
   "pygments_lexer": "ipython3",
   "version": "3.7.4"
  },
  "orig_nbformat": 4
 },
 "nbformat": 4,
 "nbformat_minor": 2
}
