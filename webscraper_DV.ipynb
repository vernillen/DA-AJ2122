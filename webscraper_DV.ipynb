{
 "cells": [
  {
   "cell_type": "code",
   "execution_count": 18,
   "metadata": {},
   "outputs": [],
   "source": [
    "## Library\n",
    "import requests\n",
    "from bs4 import BeautifulSoup as bs\n",
    "import pandas as pd"
   ]
  },
  {
   "cell_type": "code",
   "execution_count": 20,
   "metadata": {},
   "outputs": [
    {
     "name": "stdout",
     "output_type": "stream",
     "text": [
      "       Time          BTC-value      USD-value\n",
      "0   [20:52]   [0.00213674 BTC]       [$80.93]\n",
      "1   [20:52]   [0.00176902 BTC]       [$67.00]\n",
      "2   [20:52]   [0.01416937 BTC]      [$536.67]\n",
      "3   [20:52]   [0.35199494 BTC]   [$13,331.82]\n",
      "4   [20:52]   [0.00703207 BTC]      [$266.34]\n",
      "5   [20:52]   [0.04545899 BTC]    [$1,721.76]\n",
      "6   [20:52]   [0.00396753 BTC]      [$150.27]\n",
      "7   [20:52]   [4.11658673 BTC]  [$155,915.89]\n",
      "8   [20:52]   [0.00289363 BTC]      [$109.60]\n",
      "9   [20:52]   [0.00171801 BTC]       [$65.07]\n",
      "10  [20:52]   [0.00941992 BTC]      [$356.78]\n",
      "11  [20:52]   [0.16672360 BTC]    [$6,314.66]\n",
      "12  [20:52]   [0.19669783 BTC]    [$7,449.94]\n",
      "13  [20:52]   [0.00409578 BTC]      [$155.13]\n",
      "14  [20:52]   [0.01236973 BTC]      [$468.50]\n",
      "15  [20:52]   [0.00103460 BTC]       [$39.19]\n",
      "16  [20:52]   [0.02831163 BTC]    [$1,072.30]\n",
      "17  [20:52]   [0.20537565 BTC]    [$7,778.61]\n",
      "18  [20:52]   [0.01593161 BTC]      [$603.41]\n",
      "19  [20:52]   [0.00401512 BTC]      [$152.07]\n",
      "20  [20:52]   [0.00269290 BTC]      [$101.99]\n",
      "21  [20:52]   [0.00248944 BTC]       [$94.29]\n",
      "22  [20:52]   [0.07112005 BTC]    [$2,693.67]\n",
      "23  [20:52]   [0.03898866 BTC]    [$1,476.70]\n",
      "24  [20:52]   [0.00646910 BTC]      [$245.02]\n",
      "25  [20:52]   [0.07000000 BTC]    [$2,651.25]\n",
      "26  [20:52]   [0.01046940 BTC]      [$396.53]\n",
      "27  [20:52]   [0.00194981 BTC]       [$73.85]\n",
      "28  [20:52]   [0.00356108 BTC]      [$134.88]\n",
      "29  [20:52]   [0.00712496 BTC]      [$269.86]\n",
      "30  [20:52]   [0.02928252 BTC]    [$1,109.08]\n",
      "31  [20:52]   [0.00131611 BTC]       [$49.85]\n",
      "32  [20:52]   [0.00675220 BTC]      [$255.74]\n",
      "33  [20:52]   [0.02176598 BTC]      [$824.39]\n",
      "34  [20:52]   [0.00132105 BTC]       [$50.03]\n",
      "35  [20:52]  [14.66381157 BTC]  [$555,392.45]\n",
      "36  [20:52]   [0.02304538 BTC]      [$872.84]\n",
      "37  [20:52]   [0.00072297 BTC]       [$27.38]\n",
      "38  [20:52]   [0.18940684 BTC]    [$7,173.79]\n",
      "39  [20:52]   [0.01051360 BTC]      [$398.20]\n",
      "40  [20:52]   [0.00016596 BTC]        [$6.29]\n",
      "41  [20:52]   [0.03318392 BTC]    [$1,256.84]\n",
      "42  [20:52]   [0.03603238 BTC]    [$1,364.73]\n",
      "43  [20:52]   [0.00913781 BTC]      [$346.09]\n",
      "44  [20:52]   [0.00380420 BTC]      [$144.08]\n",
      "45  [20:52]   [0.01237464 BTC]      [$468.69]\n",
      "46  [20:52]   [0.00836962 BTC]      [$317.00]\n",
      "47  [20:52]   [0.04537668 BTC]    [$1,718.64]\n",
      "48  [20:52]   [0.07058279 BTC]    [$2,673.33]\n",
      "49  [20:52]   [0.00299322 BTC]      [$113.37]\n"
     ]
    }
   ],
   "source": [
    "#URL & Page\n",
    "URL = \"https://www.blockchain.com/btc/unconfirmed-transactions\"\n",
    "page = requests.get(URL)\n",
    "\n",
    "#Make it readable\n",
    "soup = bs(page.content)\n",
    "\n",
    "#Find TIME, BTC-VALUE, USD-VALUE & HASH\n",
    "results_numbers = soup.find_all(\"span\", {'class' : 'sc-1ryi78w-0 cILyoi sc-16b9dsl-1 ZwupP u3ufsr-0 eQTRKC'})\n",
    "results_hash = soup.find_all(\"a\", {'class' : 'sc-1r996ns-0 fLwyDF sc-1tbyx6t-1 kCGMTY iklhnl-0 eEewhk d53qjk-0 ctEFcK'})\n",
    "\n",
    "#Make arrays of only required values\n",
    "only_time = [results_numbers[i] for i in range(0, len(results_numbers), 3)]\n",
    "only_BTC = [results_numbers[i] for i in range(1, len(results_numbers), 3)]\n",
    "only_USD = [results_numbers[i] for i in range(2, len(results_numbers), 3)]\n",
    "only_hash = [results_hash[i] for i in range(0, len(results_hash), 1)]\n",
    "\n",
    "#Make dataframe\n",
    "dataF = {'Hash' : only_hash, 'Time' : only_time, 'BTC-value' : only_BTC, 'USD-value' : only_USD}\n",
    "frame = pd.DataFrame(data=dataF)\n",
    "\n",
    "#Print Dataframe\n",
    "print(frame)"
   ]
  },
  {
   "cell_type": "code",
   "execution_count": null,
   "metadata": {},
   "outputs": [],
   "source": []
  }
 ],
 "metadata": {
  "interpreter": {
   "hash": "8e8acd79eafc6c096ed33ca1deb984c8d1dc5fec2c1a1d777caab7e433b5e595"
  },
  "kernelspec": {
   "display_name": "Python 3.7.4 64-bit ('base': conda)",
   "language": "python",
   "name": "python3"
  },
  "language_info": {
   "codemirror_mode": {
    "name": "ipython",
    "version": 3
   },
   "file_extension": ".py",
   "mimetype": "text/x-python",
   "name": "python",
   "nbconvert_exporter": "python",
   "pygments_lexer": "ipython3",
   "version": "3.7.4"
  },
  "orig_nbformat": 4
 },
 "nbformat": 4,
 "nbformat_minor": 2
}
