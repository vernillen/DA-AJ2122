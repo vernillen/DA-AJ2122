{
 "cells": [
  {
   "cell_type": "code",
   "execution_count": 75,
   "metadata": {},
   "outputs": [
    {
     "ename": "ModuleNotFoundError",
     "evalue": "No module named 'pymongo'",
     "output_type": "error",
     "traceback": [
      "\u001b[1;31m---------------------------------------------------------------------------\u001b[0m",
      "\u001b[1;31mModuleNotFoundError\u001b[0m                       Traceback (most recent call last)",
      "\u001b[1;32m<ipython-input-75-2c52d67d544e>\u001b[0m in \u001b[0;36m<module>\u001b[1;34m\u001b[0m\n\u001b[0;32m      5\u001b[0m \u001b[1;32mimport\u001b[0m \u001b[0mjson\u001b[0m\u001b[1;33m\u001b[0m\u001b[1;33m\u001b[0m\u001b[0m\n\u001b[0;32m      6\u001b[0m \u001b[1;33m\u001b[0m\u001b[0m\n\u001b[1;32m----> 7\u001b[1;33m \u001b[1;32mfrom\u001b[0m \u001b[0mpymongo\u001b[0m \u001b[1;32mimport\u001b[0m \u001b[0mMongoClient\u001b[0m\u001b[1;33m\u001b[0m\u001b[1;33m\u001b[0m\u001b[0m\n\u001b[0m\u001b[0;32m      8\u001b[0m \u001b[1;32mimport\u001b[0m \u001b[0murllib\u001b[0m\u001b[1;33m.\u001b[0m\u001b[0mparse\u001b[0m\u001b[1;33m\u001b[0m\u001b[1;33m\u001b[0m\u001b[0m\n",
      "\u001b[1;31mModuleNotFoundError\u001b[0m: No module named 'pymongo'"
     ]
    }
   ],
   "source": [
    "## Library\n",
    "import requests\n",
    "from bs4 import BeautifulSoup as bs\n",
    "import pandas as pd\n",
    "import json\n",
    "\n",
    "import pymongo\n",
    "\n",
    "from pymongo import MongoClient\n",
    "import urllib.parse"
   ]
  },
  {
   "cell_type": "code",
   "execution_count": null,
   "metadata": {},
   "outputs": [],
   "source": []
  },
  {
   "cell_type": "code",
   "execution_count": 66,
   "metadata": {},
   "outputs": [],
   "source": [
    "def searchHTML(URL):\n",
    "    #Request HTML & beautify it\n",
    "    page = requests.get(URL)\n",
    "    soup = bs(page.content)\n",
    "    \n",
    "    #Find right data\n",
    "    results_numbers = soup.find_all(\"span\", {'class' : 'sc-1ryi78w-0 cILyoi sc-16b9dsl-1 ZwupP u3ufsr-0 eQTRKC'})\n",
    "    results_hash = soup.find_all(\"a\", {'class' : 'sc-1r996ns-0 fLwyDF sc-1tbyx6t-1 kCGMTY iklhnl-0 eEewhk d53qjk-0 ctEFcK'})\n",
    "    \n",
    "    return results_numbers, results_hash\n",
    "\n",
    "def makeFrame(hash, time, BTC, USD):\n",
    "    dataF = {'Hash' : hash, 'Time' : time, 'BTC-value' : BTC, 'USD-value' : USD}\n",
    "    frameUpdate = pd.DataFrame(dataF)\n",
    "    \n",
    "    #Cleanen van database\n",
    "    frameUpdate['BTC-value'] = frameUpdate['BTC-value'].map(lambda x: x.rstrip(' BTC'))\n",
    "    frameUpdate['BTC-value'] = frameUpdate['BTC-value'].str.replace(r'\\,', '')\n",
    "    #frameUpdate['BTC-value'] = frameUpdate['BTC-value'].str.replace(r'\\.', ',')\n",
    "\n",
    "    frameUpdate['USD-value'] = frameUpdate['USD-value'].map(lambda x: x.lstrip('$'))\n",
    "    frameUpdate['USD-value'] = frameUpdate['USD-value'].str.replace(r'\\,', '')\n",
    "    #frameUpdate['USD-value'] = frameUpdate['USD-value'].str.replace(r'\\.', ',')\n",
    "\n",
    "    frameUpdate['USD-value'] = frameUpdate['USD-value'].astype('float')\n",
    "    frameUpdate['BTC-value'] = frameUpdate['BTC-value'].astype('float')\n",
    "    \n",
    "    return frameUpdate\n",
    "\n",
    "def makeArrays(numbers, hash):\n",
    "    only_time = [content.get_text() for content in numbers[0::3]]\n",
    "    only_BTC = [content.get_text() for content in numbers[1::3]]\n",
    "    only_USD = [content.get_text() for content in numbers[2::3]]\n",
    "    only_hash = [content.get_text() for content in hash]\n",
    "    \n",
    "    return only_hash, only_time, only_BTC, only_USD\n",
    "\n",
    "def fetchCurrent(URL):\n",
    "    #HTML-doorzoeken en alles ophalen\n",
    "    numbers, hash = searchHTML(URL)\n",
    "\n",
    "    #Make arrays of only required values\n",
    "    only_hash, only_time, only_BTC, only_USD = makeArrays(numbers, hash)\n",
    "\n",
    "    #Make dataframe\n",
    "    frame = makeFrame(only_hash, only_time, only_BTC, only_USD)\n",
    "    \n",
    "    #unique = frame['Time'].nunique()\n",
    "    \n",
    "    return frame"
   ]
  },
  {
   "cell_type": "code",
   "execution_count": 67,
   "metadata": {},
   "outputs": [
    {
     "ename": "KeyboardInterrupt",
     "evalue": "",
     "output_type": "error",
     "traceback": [
      "\u001b[1;31m---------------------------------------------------------------------------\u001b[0m",
      "\u001b[1;31mKeyboardInterrupt\u001b[0m                         Traceback (most recent call last)",
      "\u001b[1;32m<ipython-input-67-61fae245ba3f>\u001b[0m in \u001b[0;36m<module>\u001b[1;34m\u001b[0m\n\u001b[0;32m     19\u001b[0m \u001b[1;33m\u001b[0m\u001b[0m\n\u001b[0;32m     20\u001b[0m \u001b[1;33m\u001b[0m\u001b[0m\n\u001b[1;32m---> 21\u001b[1;33m \u001b[0mliveCall\u001b[0m\u001b[1;33m(\u001b[0m\u001b[1;33m)\u001b[0m\u001b[1;33m\u001b[0m\u001b[1;33m\u001b[0m\u001b[0m\n\u001b[0m",
      "\u001b[1;32m<ipython-input-67-61fae245ba3f>\u001b[0m in \u001b[0;36mliveCall\u001b[1;34m()\u001b[0m\n\u001b[0;32m     11\u001b[0m     \u001b[1;32mwhile\u001b[0m \u001b[1;36m1\u001b[0m\u001b[1;33m:\u001b[0m\u001b[1;33m\u001b[0m\u001b[1;33m\u001b[0m\u001b[0m\n\u001b[0;32m     12\u001b[0m         \u001b[0mURL\u001b[0m \u001b[1;33m=\u001b[0m \u001b[1;34m\"https://www.blockchain.com/btc/unconfirmed-transactions\"\u001b[0m\u001b[1;33m\u001b[0m\u001b[1;33m\u001b[0m\u001b[0m\n\u001b[1;32m---> 13\u001b[1;33m         \u001b[0mframe_new\u001b[0m \u001b[1;33m=\u001b[0m \u001b[0mfetchCurrent\u001b[0m\u001b[1;33m(\u001b[0m\u001b[0mURL\u001b[0m\u001b[1;33m)\u001b[0m\u001b[1;33m\u001b[0m\u001b[1;33m\u001b[0m\u001b[0m\n\u001b[0m\u001b[0;32m     14\u001b[0m \u001b[1;33m\u001b[0m\u001b[0m\n\u001b[0;32m     15\u001b[0m         \u001b[0mliveCall\u001b[0m\u001b[1;33m.\u001b[0m\u001b[0mappendedDF\u001b[0m \u001b[1;33m=\u001b[0m \u001b[0mframe\u001b[0m\u001b[1;33m.\u001b[0m\u001b[0mappend\u001b[0m\u001b[1;33m(\u001b[0m\u001b[0mframe_new\u001b[0m\u001b[1;33m)\u001b[0m\u001b[1;33m.\u001b[0m\u001b[0mdrop_duplicates\u001b[0m\u001b[1;33m(\u001b[0m\u001b[1;33m)\u001b[0m\u001b[1;33m\u001b[0m\u001b[1;33m\u001b[0m\u001b[0m\n",
      "\u001b[1;32m<ipython-input-66-3acf436e0caf>\u001b[0m in \u001b[0;36mfetchCurrent\u001b[1;34m(URL)\u001b[0m\n\u001b[0;32m     38\u001b[0m \u001b[1;32mdef\u001b[0m \u001b[0mfetchCurrent\u001b[0m\u001b[1;33m(\u001b[0m\u001b[0mURL\u001b[0m\u001b[1;33m)\u001b[0m\u001b[1;33m:\u001b[0m\u001b[1;33m\u001b[0m\u001b[1;33m\u001b[0m\u001b[0m\n\u001b[0;32m     39\u001b[0m     \u001b[1;31m#HTML-doorzoeken en alles ophalen\u001b[0m\u001b[1;33m\u001b[0m\u001b[1;33m\u001b[0m\u001b[1;33m\u001b[0m\u001b[0m\n\u001b[1;32m---> 40\u001b[1;33m     \u001b[0mnumbers\u001b[0m\u001b[1;33m,\u001b[0m \u001b[0mhash\u001b[0m \u001b[1;33m=\u001b[0m \u001b[0msearchHTML\u001b[0m\u001b[1;33m(\u001b[0m\u001b[0mURL\u001b[0m\u001b[1;33m)\u001b[0m\u001b[1;33m\u001b[0m\u001b[1;33m\u001b[0m\u001b[0m\n\u001b[0m\u001b[0;32m     41\u001b[0m \u001b[1;33m\u001b[0m\u001b[0m\n\u001b[0;32m     42\u001b[0m     \u001b[1;31m#Make arrays of only required values\u001b[0m\u001b[1;33m\u001b[0m\u001b[1;33m\u001b[0m\u001b[1;33m\u001b[0m\u001b[0m\n",
      "\u001b[1;32m<ipython-input-66-3acf436e0caf>\u001b[0m in \u001b[0;36msearchHTML\u001b[1;34m(URL)\u001b[0m\n\u001b[0;32m      2\u001b[0m     \u001b[1;31m#Request HTML & beautify it\u001b[0m\u001b[1;33m\u001b[0m\u001b[1;33m\u001b[0m\u001b[1;33m\u001b[0m\u001b[0m\n\u001b[0;32m      3\u001b[0m     \u001b[0mpage\u001b[0m \u001b[1;33m=\u001b[0m \u001b[0mrequests\u001b[0m\u001b[1;33m.\u001b[0m\u001b[0mget\u001b[0m\u001b[1;33m(\u001b[0m\u001b[0mURL\u001b[0m\u001b[1;33m)\u001b[0m\u001b[1;33m\u001b[0m\u001b[1;33m\u001b[0m\u001b[0m\n\u001b[1;32m----> 4\u001b[1;33m     \u001b[0msoup\u001b[0m \u001b[1;33m=\u001b[0m \u001b[0mbs\u001b[0m\u001b[1;33m(\u001b[0m\u001b[0mpage\u001b[0m\u001b[1;33m.\u001b[0m\u001b[0mcontent\u001b[0m\u001b[1;33m)\u001b[0m\u001b[1;33m\u001b[0m\u001b[1;33m\u001b[0m\u001b[0m\n\u001b[0m\u001b[0;32m      5\u001b[0m \u001b[1;33m\u001b[0m\u001b[0m\n\u001b[0;32m      6\u001b[0m     \u001b[1;31m#Find right data\u001b[0m\u001b[1;33m\u001b[0m\u001b[1;33m\u001b[0m\u001b[1;33m\u001b[0m\u001b[0m\n",
      "\u001b[1;32m~\\Anaconda3\\lib\\site-packages\\bs4\\__init__.py\u001b[0m in \u001b[0;36m__init__\u001b[1;34m(self, markup, features, builder, parse_only, from_encoding, exclude_encodings, **kwargs)\u001b[0m\n\u001b[0;32m    298\u001b[0m          \u001b[0mself\u001b[0m\u001b[1;33m.\u001b[0m\u001b[0mcontains_replacement_characters\u001b[0m\u001b[1;33m)\u001b[0m \u001b[1;32min\u001b[0m \u001b[1;33m(\u001b[0m\u001b[1;33m\u001b[0m\u001b[1;33m\u001b[0m\u001b[0m\n\u001b[0;32m    299\u001b[0m              self.builder.prepare_markup(\n\u001b[1;32m--> 300\u001b[1;33m                  markup, from_encoding, exclude_encodings=exclude_encodings)):\n\u001b[0m\u001b[0;32m    301\u001b[0m             \u001b[0mself\u001b[0m\u001b[1;33m.\u001b[0m\u001b[0mreset\u001b[0m\u001b[1;33m(\u001b[0m\u001b[1;33m)\u001b[0m\u001b[1;33m\u001b[0m\u001b[1;33m\u001b[0m\u001b[0m\n\u001b[0;32m    302\u001b[0m             \u001b[1;32mtry\u001b[0m\u001b[1;33m:\u001b[0m\u001b[1;33m\u001b[0m\u001b[1;33m\u001b[0m\u001b[0m\n",
      "\u001b[1;32m~\\Anaconda3\\lib\\site-packages\\bs4\\builder\\_lxml.py\u001b[0m in \u001b[0;36mprepare_markup\u001b[1;34m(self, markup, user_specified_encoding, exclude_encodings, document_declared_encoding)\u001b[0m\n\u001b[0;32m    148\u001b[0m         detector = EncodingDetector(\n\u001b[0;32m    149\u001b[0m             markup, try_encodings, is_html, exclude_encodings)\n\u001b[1;32m--> 150\u001b[1;33m         \u001b[1;32mfor\u001b[0m \u001b[0mencoding\u001b[0m \u001b[1;32min\u001b[0m \u001b[0mdetector\u001b[0m\u001b[1;33m.\u001b[0m\u001b[0mencodings\u001b[0m\u001b[1;33m:\u001b[0m\u001b[1;33m\u001b[0m\u001b[1;33m\u001b[0m\u001b[0m\n\u001b[0m\u001b[0;32m    151\u001b[0m             \u001b[1;32myield\u001b[0m \u001b[1;33m(\u001b[0m\u001b[0mdetector\u001b[0m\u001b[1;33m.\u001b[0m\u001b[0mmarkup\u001b[0m\u001b[1;33m,\u001b[0m \u001b[0mencoding\u001b[0m\u001b[1;33m,\u001b[0m \u001b[0mdocument_declared_encoding\u001b[0m\u001b[1;33m,\u001b[0m \u001b[1;32mFalse\u001b[0m\u001b[1;33m)\u001b[0m\u001b[1;33m\u001b[0m\u001b[1;33m\u001b[0m\u001b[0m\n\u001b[0;32m    152\u001b[0m \u001b[1;33m\u001b[0m\u001b[0m\n",
      "\u001b[1;32m~\\Anaconda3\\lib\\site-packages\\bs4\\dammit.py\u001b[0m in \u001b[0;36mencodings\u001b[1;34m(self)\u001b[0m\n\u001b[0;32m    270\u001b[0m         \u001b[1;31m# encoding.\u001b[0m\u001b[1;33m\u001b[0m\u001b[1;33m\u001b[0m\u001b[1;33m\u001b[0m\u001b[0m\n\u001b[0;32m    271\u001b[0m         \u001b[1;32mif\u001b[0m \u001b[0mself\u001b[0m\u001b[1;33m.\u001b[0m\u001b[0mchardet_encoding\u001b[0m \u001b[1;32mis\u001b[0m \u001b[1;32mNone\u001b[0m\u001b[1;33m:\u001b[0m\u001b[1;33m\u001b[0m\u001b[1;33m\u001b[0m\u001b[0m\n\u001b[1;32m--> 272\u001b[1;33m             \u001b[0mself\u001b[0m\u001b[1;33m.\u001b[0m\u001b[0mchardet_encoding\u001b[0m \u001b[1;33m=\u001b[0m \u001b[0mchardet_dammit\u001b[0m\u001b[1;33m(\u001b[0m\u001b[0mself\u001b[0m\u001b[1;33m.\u001b[0m\u001b[0mmarkup\u001b[0m\u001b[1;33m)\u001b[0m\u001b[1;33m\u001b[0m\u001b[1;33m\u001b[0m\u001b[0m\n\u001b[0m\u001b[0;32m    273\u001b[0m         \u001b[1;32mif\u001b[0m \u001b[0mself\u001b[0m\u001b[1;33m.\u001b[0m\u001b[0m_usable\u001b[0m\u001b[1;33m(\u001b[0m\u001b[0mself\u001b[0m\u001b[1;33m.\u001b[0m\u001b[0mchardet_encoding\u001b[0m\u001b[1;33m,\u001b[0m \u001b[0mtried\u001b[0m\u001b[1;33m)\u001b[0m\u001b[1;33m:\u001b[0m\u001b[1;33m\u001b[0m\u001b[1;33m\u001b[0m\u001b[0m\n\u001b[0;32m    274\u001b[0m             \u001b[1;32myield\u001b[0m \u001b[0mself\u001b[0m\u001b[1;33m.\u001b[0m\u001b[0mchardet_encoding\u001b[0m\u001b[1;33m\u001b[0m\u001b[1;33m\u001b[0m\u001b[0m\n",
      "\u001b[1;32m~\\Anaconda3\\lib\\site-packages\\bs4\\dammit.py\u001b[0m in \u001b[0;36mchardet_dammit\u001b[1;34m(s)\u001b[0m\n\u001b[0;32m     31\u001b[0m         \u001b[1;32mimport\u001b[0m \u001b[0mchardet\u001b[0m\u001b[1;33m\u001b[0m\u001b[1;33m\u001b[0m\u001b[0m\n\u001b[0;32m     32\u001b[0m         \u001b[1;32mdef\u001b[0m \u001b[0mchardet_dammit\u001b[0m\u001b[1;33m(\u001b[0m\u001b[0ms\u001b[0m\u001b[1;33m)\u001b[0m\u001b[1;33m:\u001b[0m\u001b[1;33m\u001b[0m\u001b[1;33m\u001b[0m\u001b[0m\n\u001b[1;32m---> 33\u001b[1;33m             \u001b[1;32mreturn\u001b[0m \u001b[0mchardet\u001b[0m\u001b[1;33m.\u001b[0m\u001b[0mdetect\u001b[0m\u001b[1;33m(\u001b[0m\u001b[0ms\u001b[0m\u001b[1;33m)\u001b[0m\u001b[1;33m[\u001b[0m\u001b[1;34m'encoding'\u001b[0m\u001b[1;33m]\u001b[0m\u001b[1;33m\u001b[0m\u001b[1;33m\u001b[0m\u001b[0m\n\u001b[0m\u001b[0;32m     34\u001b[0m         \u001b[1;31m#import chardet.constants\u001b[0m\u001b[1;33m\u001b[0m\u001b[1;33m\u001b[0m\u001b[1;33m\u001b[0m\u001b[0m\n\u001b[0;32m     35\u001b[0m         \u001b[1;31m#chardet.constants._debug = 1\u001b[0m\u001b[1;33m\u001b[0m\u001b[1;33m\u001b[0m\u001b[1;33m\u001b[0m\u001b[0m\n",
      "\u001b[1;32m~\\Anaconda3\\lib\\site-packages\\chardet\\__init__.py\u001b[0m in \u001b[0;36mdetect\u001b[1;34m(byte_str)\u001b[0m\n\u001b[0;32m     36\u001b[0m             \u001b[0mbyte_str\u001b[0m \u001b[1;33m=\u001b[0m \u001b[0mbytearray\u001b[0m\u001b[1;33m(\u001b[0m\u001b[0mbyte_str\u001b[0m\u001b[1;33m)\u001b[0m\u001b[1;33m\u001b[0m\u001b[1;33m\u001b[0m\u001b[0m\n\u001b[0;32m     37\u001b[0m     \u001b[0mdetector\u001b[0m \u001b[1;33m=\u001b[0m \u001b[0mUniversalDetector\u001b[0m\u001b[1;33m(\u001b[0m\u001b[1;33m)\u001b[0m\u001b[1;33m\u001b[0m\u001b[1;33m\u001b[0m\u001b[0m\n\u001b[1;32m---> 38\u001b[1;33m     \u001b[0mdetector\u001b[0m\u001b[1;33m.\u001b[0m\u001b[0mfeed\u001b[0m\u001b[1;33m(\u001b[0m\u001b[0mbyte_str\u001b[0m\u001b[1;33m)\u001b[0m\u001b[1;33m\u001b[0m\u001b[1;33m\u001b[0m\u001b[0m\n\u001b[0m\u001b[0;32m     39\u001b[0m     \u001b[1;32mreturn\u001b[0m \u001b[0mdetector\u001b[0m\u001b[1;33m.\u001b[0m\u001b[0mclose\u001b[0m\u001b[1;33m(\u001b[0m\u001b[1;33m)\u001b[0m\u001b[1;33m\u001b[0m\u001b[1;33m\u001b[0m\u001b[0m\n",
      "\u001b[1;32m~\\Anaconda3\\lib\\site-packages\\chardet\\universaldetector.py\u001b[0m in \u001b[0;36mfeed\u001b[1;34m(self, byte_str)\u001b[0m\n\u001b[0;32m    209\u001b[0m                 \u001b[0mself\u001b[0m\u001b[1;33m.\u001b[0m\u001b[0m_charset_probers\u001b[0m\u001b[1;33m.\u001b[0m\u001b[0mappend\u001b[0m\u001b[1;33m(\u001b[0m\u001b[0mLatin1Prober\u001b[0m\u001b[1;33m(\u001b[0m\u001b[1;33m)\u001b[0m\u001b[1;33m)\u001b[0m\u001b[1;33m\u001b[0m\u001b[1;33m\u001b[0m\u001b[0m\n\u001b[0;32m    210\u001b[0m             \u001b[1;32mfor\u001b[0m \u001b[0mprober\u001b[0m \u001b[1;32min\u001b[0m \u001b[0mself\u001b[0m\u001b[1;33m.\u001b[0m\u001b[0m_charset_probers\u001b[0m\u001b[1;33m:\u001b[0m\u001b[1;33m\u001b[0m\u001b[1;33m\u001b[0m\u001b[0m\n\u001b[1;32m--> 211\u001b[1;33m                 \u001b[1;32mif\u001b[0m \u001b[0mprober\u001b[0m\u001b[1;33m.\u001b[0m\u001b[0mfeed\u001b[0m\u001b[1;33m(\u001b[0m\u001b[0mbyte_str\u001b[0m\u001b[1;33m)\u001b[0m \u001b[1;33m==\u001b[0m \u001b[0mProbingState\u001b[0m\u001b[1;33m.\u001b[0m\u001b[0mFOUND_IT\u001b[0m\u001b[1;33m:\u001b[0m\u001b[1;33m\u001b[0m\u001b[1;33m\u001b[0m\u001b[0m\n\u001b[0m\u001b[0;32m    212\u001b[0m                     self.result = {'encoding': prober.charset_name,\n\u001b[0;32m    213\u001b[0m                                    \u001b[1;34m'confidence'\u001b[0m\u001b[1;33m:\u001b[0m \u001b[0mprober\u001b[0m\u001b[1;33m.\u001b[0m\u001b[0mget_confidence\u001b[0m\u001b[1;33m(\u001b[0m\u001b[1;33m)\u001b[0m\u001b[1;33m,\u001b[0m\u001b[1;33m\u001b[0m\u001b[1;33m\u001b[0m\u001b[0m\n",
      "\u001b[1;32m~\\Anaconda3\\lib\\site-packages\\chardet\\latin1prober.py\u001b[0m in \u001b[0;36mfeed\u001b[1;34m(self, byte_str)\u001b[0m\n\u001b[0;32m    115\u001b[0m \u001b[1;33m\u001b[0m\u001b[0m\n\u001b[0;32m    116\u001b[0m     \u001b[1;32mdef\u001b[0m \u001b[0mfeed\u001b[0m\u001b[1;33m(\u001b[0m\u001b[0mself\u001b[0m\u001b[1;33m,\u001b[0m \u001b[0mbyte_str\u001b[0m\u001b[1;33m)\u001b[0m\u001b[1;33m:\u001b[0m\u001b[1;33m\u001b[0m\u001b[1;33m\u001b[0m\u001b[0m\n\u001b[1;32m--> 117\u001b[1;33m         \u001b[0mbyte_str\u001b[0m \u001b[1;33m=\u001b[0m \u001b[0mself\u001b[0m\u001b[1;33m.\u001b[0m\u001b[0mfilter_with_english_letters\u001b[0m\u001b[1;33m(\u001b[0m\u001b[0mbyte_str\u001b[0m\u001b[1;33m)\u001b[0m\u001b[1;33m\u001b[0m\u001b[1;33m\u001b[0m\u001b[0m\n\u001b[0m\u001b[0;32m    118\u001b[0m         \u001b[1;32mfor\u001b[0m \u001b[0mc\u001b[0m \u001b[1;32min\u001b[0m \u001b[0mbyte_str\u001b[0m\u001b[1;33m:\u001b[0m\u001b[1;33m\u001b[0m\u001b[1;33m\u001b[0m\u001b[0m\n\u001b[0;32m    119\u001b[0m             \u001b[0mchar_class\u001b[0m \u001b[1;33m=\u001b[0m \u001b[0mLatin1_CharToClass\u001b[0m\u001b[1;33m[\u001b[0m\u001b[0mc\u001b[0m\u001b[1;33m]\u001b[0m\u001b[1;33m\u001b[0m\u001b[1;33m\u001b[0m\u001b[0m\n",
      "\u001b[1;32m~\\Anaconda3\\lib\\site-packages\\chardet\\charsetprober.py\u001b[0m in \u001b[0;36mfilter_with_english_letters\u001b[1;34m(buf)\u001b[0m\n\u001b[0;32m    127\u001b[0m \u001b[1;33m\u001b[0m\u001b[0m\n\u001b[0;32m    128\u001b[0m             \u001b[1;31m# If current character is not extended-ASCII and not alphabetic...\u001b[0m\u001b[1;33m\u001b[0m\u001b[1;33m\u001b[0m\u001b[1;33m\u001b[0m\u001b[0m\n\u001b[1;32m--> 129\u001b[1;33m             \u001b[1;32mif\u001b[0m \u001b[0mbuf_char\u001b[0m \u001b[1;33m<\u001b[0m \u001b[1;34mb'\\x80'\u001b[0m \u001b[1;32mand\u001b[0m \u001b[1;32mnot\u001b[0m \u001b[0mbuf_char\u001b[0m\u001b[1;33m.\u001b[0m\u001b[0misalpha\u001b[0m\u001b[1;33m(\u001b[0m\u001b[1;33m)\u001b[0m\u001b[1;33m:\u001b[0m\u001b[1;33m\u001b[0m\u001b[1;33m\u001b[0m\u001b[0m\n\u001b[0m\u001b[0;32m    130\u001b[0m                 \u001b[1;31m# ...and we're not in a tag\u001b[0m\u001b[1;33m\u001b[0m\u001b[1;33m\u001b[0m\u001b[1;33m\u001b[0m\u001b[0m\n\u001b[0;32m    131\u001b[0m                 \u001b[1;32mif\u001b[0m \u001b[0mcurr\u001b[0m \u001b[1;33m>\u001b[0m \u001b[0mprev\u001b[0m \u001b[1;32mand\u001b[0m \u001b[1;32mnot\u001b[0m \u001b[0min_tag\u001b[0m\u001b[1;33m:\u001b[0m\u001b[1;33m\u001b[0m\u001b[1;33m\u001b[0m\u001b[0m\n",
      "\u001b[1;31mKeyboardInterrupt\u001b[0m: "
     ]
    }
   ],
   "source": [
    "def liveCall():\n",
    "    #Eenmalig eventjes een lege dataframe maken om te kunnen appenden\n",
    "    dataF = {'Hash' : [], 'Time' : [], 'BTC-value' : [], 'USD-value' : []}\n",
    "    frame = pd.DataFrame(data=dataF)\n",
    "    \n",
    "    #Eenmalig lege json-file maken\n",
    "    hashes = {\"Hashes\" : []}\n",
    "    with open('json_hashes.json', 'w') as outfile:\n",
    "        json.dump(hashes, outfile)\n",
    "    \n",
    "    while 1:\n",
    "        URL = \"https://www.blockchain.com/btc/unconfirmed-transactions\"\n",
    "        frame_new = fetchCurrent(URL)\n",
    "        \n",
    "        #liveCall.appendedDF = frame.append(frame_new).drop_duplicates()\n",
    "        #frame = liveCall.appendedDF\n",
    "        \n",
    "        js = frame_new.to_json(orient=\"records\")\n",
    "        \n",
    "        #print(unique)\n",
    "\n",
    "\n",
    "liveCall()        \n"
   ]
  },
  {
   "cell_type": "code",
   "execution_count": 69,
   "metadata": {},
   "outputs": [
    {
     "name": "stdout",
     "output_type": "stream",
     "text": [
      "[{\"Hash\":\"275217a10f4fb64c34232aa259f0ff5361a009b03d6525ebb882acac5be88f3b\",\"Time\":\"17:01\",\"BTC-value\":0.00496504,\"USD-value\":210.51},{\"Hash\":\"693fabee1bd3d0f10dfc9a6cd1b9da4b630ab895f71055468743f3668e12d5f7\",\"Time\":\"17:01\",\"BTC-value\":0.03354921,\"USD-value\":1422.4},{\"Hash\":\"cf25e760c4662bbdce980aac72a1e11a896404e896f2dcdcf6102226cde12eea\",\"Time\":\"17:01\",\"BTC-value\":0.14653389,\"USD-value\":6212.68},{\"Hash\":\"71e625982d87a481509692f740ad77cc7e5a56fc4ebd069fea4bf421610f4ec1\",\"Time\":\"17:01\",\"BTC-value\":0.18292804,\"USD-value\":7755.7},{\"Hash\":\"026bee0239e03190cd1b08455d7f1eff3a66716edfad65346a8b9a2367023366\",\"Time\":\"17:01\",\"BTC-value\":0.09778587,\"USD-value\":4145.88},{\"Hash\":\"32b3674bc5c501b21e9b36654d4258c01d5d18057783323136087fc438109392\",\"Time\":\"17:01\",\"BTC-value\":0.0235086,\"USD-value\":996.71},{\"Hash\":\"349f1948c2932e75c6e086a845b87ba2901c1923dcc8ded4a7bcbfbfeff20def\",\"Time\":\"17:01\",\"BTC-value\":0.02604185,\"USD-value\":1104.11},{\"Hash\":\"3edd0a8a6bbd1709a982899e2783ea2acd3372ebf18741e9b077cf2de8152b97\",\"Time\":\"17:01\",\"BTC-value\":0.096798,\"USD-value\":4104.0},{\"Hash\":\"c4c39a7c4f1a07483e10b586feddd26dc7662233a32f6b3ad049fad344ceecb3\",\"Time\":\"17:01\",\"BTC-value\":0.00056015,\"USD-value\":23.75},{\"Hash\":\"78f580ff75b7e7779c3c28abbe8288ada735f3dc80599c14953f9f059e256652\",\"Time\":\"17:01\",\"BTC-value\":0.00277565,\"USD-value\":117.68},{\"Hash\":\"47cf6b7c12be1b07005a935874bac15f7611ba8b3339e43fbdbe703529c81b4a\",\"Time\":\"17:01\",\"BTC-value\":3.12634681,\"USD-value\":132549.41},{\"Hash\":\"0d9ba8928d4ecc28729c246fdde5fd63b3b2443b42434ad63890cf22d39d5cfb\",\"Time\":\"17:01\",\"BTC-value\":0.00387551,\"USD-value\":164.31},{\"Hash\":\"bebf58d2e65ee37b4028e5af600db6f4cbf0d1a24967a7b4bd2aaa729a4287b6\",\"Time\":\"17:01\",\"BTC-value\":0.03296883,\"USD-value\":1397.8},{\"Hash\":\"0615bdba6f543a256335d898399e77e5eac00b8962072aa5acdab15dcc1b5c75\",\"Time\":\"17:01\",\"BTC-value\":0.0019284,\"USD-value\":81.76},{\"Hash\":\"a6e12977205e166433188ff93e94b60b7f6989bbae3db3ff7e47a97373b5dd41\",\"Time\":\"17:01\",\"BTC-value\":0.04697657,\"USD-value\":1991.69},{\"Hash\":\"3d081e7033495e42b8e2550ad993f4a5053084969ce0b5438c47072858bc76fe\",\"Time\":\"17:01\",\"BTC-value\":0.10758775,\"USD-value\":4561.46},{\"Hash\":\"0511c7c8a832cb281c79d022a2d73d96b3aa14253852048cff9d83dffe5855da\",\"Time\":\"17:01\",\"BTC-value\":0.00426632,\"USD-value\":180.88},{\"Hash\":\"363fac3e6f526acd3624dabcda70d54310568885f556f30839f126ba37dd3bb6\",\"Time\":\"17:01\",\"BTC-value\":0.00108286,\"USD-value\":45.91},{\"Hash\":\"02d87b805c8d133dd3a82e2524c21cb45b75d6fb768f733c310cb7ec22f12695\",\"Time\":\"17:01\",\"BTC-value\":0.01099771,\"USD-value\":466.28},{\"Hash\":\"4a5ee809bf8d3f5f08d50dc529221cfdba4afbcd106bb475769cc59117295c26\",\"Time\":\"17:01\",\"BTC-value\":0.04106512,\"USD-value\":1741.06},{\"Hash\":\"3fa046d32e2450364fe513b23f9cc0acfef13d2f4a8ddb97aefd580faa38041d\",\"Time\":\"17:01\",\"BTC-value\":0.00089348,\"USD-value\":37.88},{\"Hash\":\"1fd4bb51bc86fc00be157be6c2adde74e0ce66f041243c5711914e27120a31ba\",\"Time\":\"17:01\",\"BTC-value\":0.00120174,\"USD-value\":50.95},{\"Hash\":\"f4954bfaaba32ee0c82f090e22dad86bf5fd99fc0383832d925e29127d50f8b6\",\"Time\":\"17:01\",\"BTC-value\":0.14574665,\"USD-value\":6179.3},{\"Hash\":\"b846466d414cab8a7b7351fc52d84d0c669817fec9669bdf3da782d78e965a7c\",\"Time\":\"17:01\",\"BTC-value\":20.66846995,\"USD-value\":876292.28},{\"Hash\":\"76b0834efaf24a5f791a0c75d7ee1552e57b3d5c92e69cf78df6fbcfeca7a87b\",\"Time\":\"17:01\",\"BTC-value\":0.13517815,\"USD-value\":5731.22},{\"Hash\":\"8f8b0f8b795894af1773df976af8472ed855b28fedd67cdaaa36ce92b716fe4a\",\"Time\":\"17:01\",\"BTC-value\":0.55096996,\"USD-value\":23359.77},{\"Hash\":\"d62693b1c1d836b87790e5d9159bd87108e023bb071e13dff7e98844067f3c45\",\"Time\":\"17:01\",\"BTC-value\":0.18607033,\"USD-value\":7888.92},{\"Hash\":\"69e542c8ba3f8645a8bd2abb78b1236d77fcc4487478016a290de64bb2120d3a\",\"Time\":\"17:01\",\"BTC-value\":0.01185608,\"USD-value\":502.67},{\"Hash\":\"1dc14bacfa500b858425cae717ed8e6df667a375b1df121acea8631ad51d310a\",\"Time\":\"17:01\",\"BTC-value\":0.01056303,\"USD-value\":447.85},{\"Hash\":\"85a81353bfb8e259a35e32a209a383fa368b5064f4d41e8339dc05b22d49bb08\",\"Time\":\"17:01\",\"BTC-value\":0.00386918,\"USD-value\":164.04},{\"Hash\":\"d1aacfe493aecf646b8b0dc276245f7a09a1590849128d5e1d8d6c928b8b3a9d\",\"Time\":\"17:01\",\"BTC-value\":0.04334523,\"USD-value\":1837.73},{\"Hash\":\"41d61ca645f98032bb65f02cb3147269a232e297370a1d86f08adffb6d147071\",\"Time\":\"17:01\",\"BTC-value\":0.37455299,\"USD-value\":15880.13},{\"Hash\":\"0e54fce5dfc11411c1d6c508612d6b7a8e3e5371684accc6d8ff8a9c4ce24161\",\"Time\":\"17:01\",\"BTC-value\":0.00128913,\"USD-value\":54.66},{\"Hash\":\"38e6b5f3ab4ce776618a06a8121deea7aaf653147ffd60518ba2a9fa3351daef\",\"Time\":\"17:01\",\"BTC-value\":2.90861596,\"USD-value\":123318.16},{\"Hash\":\"aa5a213a862e67c981f47662d91a7c4c24a7edcbb5c8553745107fc1072b2694\",\"Time\":\"17:01\",\"BTC-value\":0.00220035,\"USD-value\":93.29},{\"Hash\":\"870037837bf27f7da323e79a8bf7cf62e414d1dd63dead6b8e58f4519da57c6a\",\"Time\":\"17:01\",\"BTC-value\":0.63115476,\"USD-value\":26759.41},{\"Hash\":\"2f6d311baafa48ca69f673e5c6531f1a3639acc411b8d5fa8a717641178bad2a\",\"Time\":\"17:01\",\"BTC-value\":0.00504494,\"USD-value\":213.89},{\"Hash\":\"f34055623d826ec63445f957785e9a40bbd171fcac1a9ff2cc9487c04d646316\",\"Time\":\"17:01\",\"BTC-value\":0.03018672,\"USD-value\":1279.84},{\"Hash\":\"648772617b6d905903d35d1eef00128d7b7dc9f3164d2b8b80963191bb8afe11\",\"Time\":\"17:01\",\"BTC-value\":0.02746057,\"USD-value\":1164.26},{\"Hash\":\"7fdebe9e48f3260913e378edd34816de4f3bf73254c55ffc0c2f1b8d9e576b11\",\"Time\":\"17:01\",\"BTC-value\":0.03757076,\"USD-value\":1592.91},{\"Hash\":\"a4303825e61450341848fa8f796aa5310a9acb5b16e597369f63b5097eaf6f00\",\"Time\":\"17:01\",\"BTC-value\":0.00677347,\"USD-value\":287.18},{\"Hash\":\"fd19ac4e48d25b6b22d4ad54db1b1445b5dd00b2c8755f74564042e760e2bbf3\",\"Time\":\"17:01\",\"BTC-value\":0.00080806,\"USD-value\":34.26},{\"Hash\":\"b42de5d37ddeb11a6b128e60f40c99b11e992bcaeb6083031b11a412abe83ec7\",\"Time\":\"17:01\",\"BTC-value\":0.0003059,\"USD-value\":12.97},{\"Hash\":\"96b4a2f87790b08cce2df8a963fab76ea9900e4b5cd9c5fd3b7cf1f8b3d131c5\",\"Time\":\"17:01\",\"BTC-value\":0.00235774,\"USD-value\":99.96},{\"Hash\":\"1334bf40e54c1dcda0a14c3eb4f86f55167d11f0e43188980264357601a0ebb0\",\"Time\":\"17:01\",\"BTC-value\":0.00247844,\"USD-value\":105.08},{\"Hash\":\"f4424c477869a50ab178b3af606b52806a2464bdba8a5faaf3c0774195ce10a7\",\"Time\":\"17:01\",\"BTC-value\":0.00109811,\"USD-value\":46.56},{\"Hash\":\"1fc48c298e376530a9c8b0ab5a63fbb8ffc5c67f7fffe1a23d4a4bae32cf8195\",\"Time\":\"17:01\",\"BTC-value\":0.11050144,\"USD-value\":4684.99},{\"Hash\":\"16eae93d742f95ab929100069b7b904002c6a30b77a1a74bbf3ae0a5f8940591\",\"Time\":\"17:01\",\"BTC-value\":0.0005863,\"USD-value\":24.86},{\"Hash\":\"05207fea1da101ff15870b6deb5003b00350938843bed1e340737769a7eb5e7f\",\"Time\":\"17:01\",\"BTC-value\":0.00013694,\"USD-value\":5.81},{\"Hash\":\"ad5ac88d266a056c470889cca190f4f8b59a85063f9baa863f85c0bffb725477\",\"Time\":\"17:01\",\"BTC-value\":0.00433811,\"USD-value\":183.93}]\n"
     ]
    }
   ],
   "source": [
    "js = liveCall.appendedDF.to_json(orient=\"records\")\n",
    "print(js)"
   ]
  },
  {
   "cell_type": "code",
   "execution_count": null,
   "metadata": {},
   "outputs": [],
   "source": [
    "#Cleanen van database\n",
    "liveCall.appendedDF['BTC-value'] = liveCall.appendedDF['BTC-value'].map(lambda x: x.rstrip(' BTC'))\n",
    "liveCall.appendedDF['BTC-value'] = liveCall.appendedDF['BTC-value'].str.replace(r'\\,', '')\n",
    "#liveCall.appendedDF['BTC-value'] = liveCall.appendedDF['BTC-value'].str.replace(r'\\.', ',')\n",
    "\n",
    "liveCall.appendedDF['USD-value'] = liveCall.appendedDF['USD-value'].map(lambda x: x.lstrip('$'))\n",
    "liveCall.appendedDF['USD-value'] = liveCall.appendedDF['USD-value'].str.replace(r'\\,', '')\n",
    "#liveCall.appendedDF['USD-value'] = liveCall.appendedDF['USD-value'].str.replace(r'\\.', ',')\n",
    "\n",
    "liveCall.appendedDF['USD-value'] = liveCall.appendedDF['USD-value'].astype('float')\n",
    "liveCall.appendedDF['BTC-value'] = liveCall.appendedDF['BTC-value'].astype('float')\n",
    "\n",
    "# liveCall.appendedDF.loc[liveCall.appendedDF['Time'] == '20:34', 'USD-value']"
   ]
  },
  {
   "cell_type": "code",
   "execution_count": null,
   "metadata": {},
   "outputs": [],
   "source": [
    "#Haal eruit welke het grootste is\n",
    "timestamps = liveCall.appendedDF['Time'].unique()\n",
    "\n",
    "f = open(\"logfile.txt\", \"w\")\n",
    "for timestamp in timestamps:\n",
    "    BTC = liveCall.appendedDF.loc[liveCall.appendedDF['Time'] == timestamp, 'BTC-value'].max()\n",
    "    series = liveCall.appendedDF.loc[liveCall.appendedDF['BTC-value'] == BTC]\n",
    "    \n",
    "    f.write(f\"============ Hier zijn alle gegevens voor de max-BTC-value van {timestamp}: \")\n",
    "    f.write(\"\\n\")\n",
    "    for names in series.columns:\n",
    "        if names != \"Time\":\n",
    "            f.write(f\"De {names}: {series.iloc[0][names]}\")\n",
    "            f.write(\"\\n\")\n",
    "    \n",
    "    f.write(\"\\n\")\n",
    "\n",
    "f.close()"
   ]
  }
 ],
 "metadata": {
  "interpreter": {
   "hash": "8e8acd79eafc6c096ed33ca1deb984c8d1dc5fec2c1a1d777caab7e433b5e595"
  },
  "kernelspec": {
   "display_name": "Python 3.7.4 64-bit ('base': conda)",
   "language": "python",
   "name": "python3"
  },
  "language_info": {
   "codemirror_mode": {
    "name": "ipython",
    "version": 3
   },
   "file_extension": ".py",
   "mimetype": "text/x-python",
   "name": "python",
   "nbconvert_exporter": "python",
   "pygments_lexer": "ipython3",
   "version": "3.7.4"
  },
  "orig_nbformat": 4
 },
 "nbformat": 4,
 "nbformat_minor": 2
}
